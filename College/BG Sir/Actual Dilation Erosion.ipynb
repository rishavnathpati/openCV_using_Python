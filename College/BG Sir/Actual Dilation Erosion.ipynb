{
 "metadata": {
  "language_info": {
   "codemirror_mode": {
    "name": "ipython",
    "version": 3
   },
   "file_extension": ".py",
   "mimetype": "text/x-python",
   "name": "python",
   "nbconvert_exporter": "python",
   "pygments_lexer": "ipython3",
   "version": "3.8.5-final"
  },
  "orig_nbformat": 2,
  "kernelspec": {
   "name": "Python 3.8.5 32-bit",
   "display_name": "Python 3.8.5 32-bit",
   "metadata": {
    "interpreter": {
     "hash": "834baf801a1c53efb59c84ebe1561470e0a4bfe40e75c018efef599a6217318e"
    }
   }
  }
 },
 "nbformat": 4,
 "nbformat_minor": 2,
 "cells": [
  {
   "cell_type": "code",
   "execution_count": 1,
   "metadata": {},
   "outputs": [
    {
     "output_type": "execute_result",
     "data": {
      "text/plain": [
       "-1"
      ]
     },
     "metadata": {},
     "execution_count": 1
    }
   ],
   "source": [
    "import cv2 \n",
    "import numpy as np \n",
    "  \n",
    "img = cv2.imread('sample3.jpg', 0)\n",
    "\n",
    "kernel = np.ones((3,3), np.uint8) \n",
    "  \n",
    "  \n",
    "img_erosion = cv2.erode(img, kernel, iterations=1) \n",
    "img_dilation = cv2.dilate(img, kernel, iterations=1) \n",
    "  \n",
    "cv2.imshow('Input', img) \n",
    "cv2.imshow('Erosion', img_erosion) \n",
    "cv2.imshow('Dilation', img_dilation) \n",
    "  \n",
    "cv2.waitKey(0)"
   ]
  }
 ]
}