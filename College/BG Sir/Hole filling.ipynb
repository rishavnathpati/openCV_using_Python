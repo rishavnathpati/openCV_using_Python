{
 "cells": [
  {
   "cell_type": "markdown",
   "metadata": {},
   "source": [
    "HOLE FILLING"
   ]
  },
  {
   "cell_type": "code",
   "execution_count": 1,
   "metadata": {},
   "outputs": [],
   "source": [
    "import matplotlib.pyplot as plt\n",
    "import cv2\n",
    "import numpy as np\n",
    "import copy\n",
    "import math\n",
    "from skimage import metrics\n",
    "path=r'D:/Study/Python/openCV/College/res/'"
   ]
  },
  {
   "cell_type": "code",
   "execution_count": 2,
   "metadata": {},
   "outputs": [
    {
     "data": {
      "text/plain": [
       "<matplotlib.image.AxesImage at 0x1dbdca18>"
      ]
     },
     "execution_count": 2,
     "metadata": {},
     "output_type": "execute_result"
    },
    {
     "data": {
      "image/png": "[encoded data removed]",
      "text/plain": [
       "<Figure size 432x288 with 1 Axes>"
      ]
     },
     "metadata": {
      "needs_background": "light"
     },
     "output_type": "display_data"
    }
   ],
   "source": [
    "img = cv2.imread(path+'1.png',0)\n",
    "plt.imshow(img,'gray')"
   ]
  },
  {
   "cell_type": "code",
   "execution_count": 3,
   "metadata": {},
   "outputs": [
    {
     "data": {
      "text/plain": [
       "<matplotlib.image.AxesImage at 0x1db5dfe8>"
      ]
     },
     "execution_count": 3,
     "metadata": {},
     "output_type": "execute_result"
    },
    {
     "data": {
      "image/png": "[encoded data removed]",
      "text/plain": [
       "<Figure size 432x288 with 1 Axes>"
      ]
     },
     "metadata": {
      "needs_background": "light"
     },
     "output_type": "display_data"
    }
   ],
   "source": [
    "(thresh, blackAndWhiteImage) = cv2.threshold(img,0,255,cv2.THRESH_BINARY+cv2.THRESH_OTSU)\n",
    "plt.title('Binary Image')\n",
    "plt.imshow(blackAndWhiteImage,'gray')"
   ]
  },
  {
   "cell_type": "code",
   "execution_count": 4,
   "metadata": {},
   "outputs": [
    {
     "data": {
      "text/plain": [
       "<matplotlib.image.AxesImage at 0x1ecb54f0>"
      ]
     },
     "execution_count": 4,
     "metadata": {},
     "output_type": "execute_result"
    },
    {
     "data": {
      "image/png": "[encoded data removed]",
      "text/plain": [
       "<Figure size 432x288 with 1 Axes>"
      ]
     },
     "metadata": {
      "needs_background": "light"
     },
     "output_type": "display_data"
    }
   ],
   "source": [
    "rows , cols = img.shape\n",
    "X0=[[255]*cols]*rows\n",
    "X0=np.array(X0)\n",
    "X0[2][2]=0\n",
    "\n",
    "plt.imshow(X0,'gray')"
   ]
  },
  {
   "cell_type": "code",
   "execution_count": 5,
   "metadata": {},
   "outputs": [],
   "source": [
    "def padding(img, size, type):\n",
    "\n",
    "    # Initialise the Padded Matrix\n",
    "    padded_arr = np.zeros((img.shape[0]+(size*2), img.shape[1]+(size*2)))\n",
    "\n",
    "    # Fill the padded matrix by original image\n",
    "    for i in range(img.shape[0]):\n",
    "        for j in range(img.shape[1]):\n",
    "            padded_arr[i+size][j+size] = img[i][j]\n",
    "\n",
    "    if(type == 1):\n",
    "        padded_arr = duplicate_padding(padded_arr, size)\n",
    "    if(type == 2):\n",
    "        padded_arr = mirror_padding(padded_arr, img, size)\n",
    "\n",
    "    return padded_arr # Return padded array"
   ]
  },
  {
   "cell_type": "code",
   "execution_count": 6,
   "metadata": {},
   "outputs": [],
   "source": [
    "strc_ele=np.array([[1,0,1],[0,0,0],[1,0,1]])\n",
    "\n",
    "padded_arr =np.zeros((img.shape[0]+2,img.shape[1]+2),'uint8')\n",
    "\n",
    "def duplicate_padding(arr, size):\n",
    "\n",
    "    list1 = []  # Initialise a list to take the upper border pixels of real image\n",
    "    list2 = []  # Initialise a list to take the left border pixels of real image\n",
    "    list3 = []  # Initialise a list to take the lower border pixels of real image\n",
    "    list4 = []  # Initialise a list to take the right border pixels of real image\n",
    "\n",
    "    # Fill list1 by upper border pixels of real image\n",
    "    for i in range(size, arr.shape[1]-size):\n",
    "        list1.append(arr[size][i])\n",
    "\n",
    "    # Copy list1 in upper padded zero pixels\n",
    "    for i in range(size-1, -1, -1):\n",
    "        list1.insert(0, list1[0])\n",
    "        list1.append(list1[len(list1)-1])\n",
    "        arr[i][i:i+len(list1)] = list1\n",
    "\n",
    "    # Fill list2 by left border pixels of real image\n",
    "    for i in range(size, arr.shape[0]-size):\n",
    "        list2.append(arr[i][size])\n",
    "\n",
    "    # Copy list2 in left padded zero pixels\n",
    "    for i in range(size-1, -1, -1):\n",
    "        list2.insert(0, list2[0])\n",
    "        list2.append(list2[len(list2)-1])\n",
    "        index = 0\n",
    "        for j in range(i, i+len(list2)):\n",
    "            arr[j][i] = list2[index]\n",
    "            index += 1\n",
    "\n",
    "    # Fill list3 by lower border pixels of real image\n",
    "    for i in range(size, arr.shape[1]-size):\n",
    "        list3.append(arr[arr.shape[0]-size-1][i])\n",
    "\n",
    "    # Copy list3 in lower padded zero pixels\n",
    "    t = size-1\n",
    "    for i in range(arr.shape[0]-size, arr.shape[0]):\n",
    "        list3.insert(0, list3[0])\n",
    "        list3.append(list3[len(list3)-1])\n",
    "        arr[i][t:t+len(list3)] = list3\n",
    "        t -= 1\n",
    "\n",
    "    # Fill list4 by right border pixels of real image\n",
    "    for i in range(size, arr.shape[0]-size):\n",
    "        list4.append(arr[i][arr.shape[1]-size-1])\n",
    "\n",
    "    # Copy list4 in right padded zero pixels\n",
    "    t = size-1\n",
    "    for i in range(arr.shape[1]-size, arr.shape[1]):\n",
    "        list4.insert(0, list4[0])\n",
    "        list4.append(list4[len(list4)-1])\n",
    "        index = 0\n",
    "        for j in range(t, t+len(list4)):\n",
    "            arr[j][i] = list4[index]\n",
    "            index += 1\n",
    "        t -= 1\n",
    "\n",
    "    return arr\n",
    "\n",
    "padded_arr=padding(blackAndWhiteImage,1,1)"
   ]
  },
  {
   "cell_type": "code",
   "execution_count": 10,
   "metadata": {},
   "outputs": [],
   "source": [
    "img1=np.zeros(img.shape,'uint8')\n",
    "Xpr=np.zeros(img.shape,'uint8')\n",
    "Xprev=np.zeros(img.shape,'uint8')\n",
    "Ac=np.zeros(img.shape,'uint8')\n",
    "\n",
    "Xpr=copy.deepcopy(X0)\n",
    "Xprev=copy.deepcopy(X0)\n",
    "\n",
    "for i in range(img.shape[0]):\n",
    "    for j in range(img.shape[1]):\n",
    "        if img[i][j]==0:\n",
    "            Ac[i][j]=255\n",
    "        else:\n",
    "            Ac[i][j]=0\n",
    "\n",
    "\n",
    "while True:\n",
    "    Xprev=copy.deepcopy(Xpr)\n",
    "    for i in range (img.shape[0]):\n",
    "        for j in range(img.shape[1]):\n",
    "            padded_arr[i+1][j+1] = Xprev[i][j]\n",
    "\n",
    "    for i in range (img.shape[0]):\n",
    "        for j in range(img.shape[1]):\n",
    "            if (np.sometrue(np.equal(strc_ele,padded_arr[i:i+3,j:j+3]))):\n",
    "                img1[i][j]=0\n",
    "            else:\n",
    "                img1[i][j]=255\n",
    "\n",
    "    for i in range(img.shape[0]):\n",
    "        for j in range(img.shape[1]):\n",
    "            Xpr[i][j]=img1[i][j] or Ac[i][j]\n",
    "\n",
    "    if (np.alltrue(np.equal(Xpr,Xprev)) == True):\n",
    "        break"
   ]
  },
  {
   "cell_type": "code",
   "execution_count": 11,
   "metadata": {},
   "outputs": [
    {
     "data": {
      "text/plain": [
       "<matplotlib.image.AxesImage at 0x1fcfb3b8>"
      ]
     },
     "execution_count": 11,
     "metadata": {},
     "output_type": "execute_result"
    },
    {
     "data": {
      "image/png": "[encoded data removed]",
      "text/plain": [
       "<Figure size 432x288 with 1 Axes>"
      ]
     },
     "metadata": {
      "needs_background": "light"
     },
     "output_type": "display_data"
    }
   ],
   "source": [
    "plt.imshow(Xpr,'gray')"
   ]
  },
  {
   "cell_type": "code",
   "execution_count": 14,
   "metadata": {},
   "outputs": [],
   "source": [
    "final_img=np.zeros(img.shape,'uint16')\n",
    "for i in range(img.shape[0]):\n",
    "    for j in range(img.shape[1]):\n",
    "        final_img[i][j]=Xpr[i][j] and blackAndWhiteImage[i][j]"
   ]
  },
  {
   "cell_type": "code",
   "execution_count": 15,
   "metadata": {},
   "outputs": [
    {
     "data": {
      "text/plain": [
       "<matplotlib.image.AxesImage at 0x157c3a0>"
      ]
     },
     "execution_count": 15,
     "metadata": {},
     "output_type": "execute_result"
    },
    {
     "data": {
      "image/png": "[encoded data removed]",
      "text/plain": [
       "<Figure size 432x288 with 1 Axes>"
      ]
     },
     "metadata": {
      "needs_background": "light"
     },
     "output_type": "display_data"
    }
   ],
   "source": [
    "plt.imshow(final_img,'gray')"
   ]
  },
  {
   "cell_type": "code",
   "execution_count": null,
   "metadata": {},
   "outputs": [],
   "source": []
  }
 ],
 "metadata": {
  "kernelspec": {
   "display_name": "Python 3",
   "language": "python",
   "name": "python3"
  },
  "language_info": {
   "codemirror_mode": {
    "name": "ipython",
    "version": 3
   },
   "file_extension": ".py",
   "mimetype": "text/x-python",
   "name": "python",
   "nbconvert_exporter": "python",
   "pygments_lexer": "ipython3",
   "version": "3.8.6"
  }
 },
 "nbformat": 4,
 "nbformat_minor": 4
}
