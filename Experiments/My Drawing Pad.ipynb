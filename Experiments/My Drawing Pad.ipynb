{
 "metadata": {
  "language_info": {
   "codemirror_mode": {
    "name": "ipython",
    "version": 3
   },
   "file_extension": ".py",
   "mimetype": "text/x-python",
   "name": "python",
   "nbconvert_exporter": "python",
   "pygments_lexer": "ipython3",
   "version": "3.8.5-final"
  },
  "orig_nbformat": 2,
  "kernelspec": {
   "name": "python_defaultSpec_1598847683588",
   "display_name": "Python 3.8.5 32-bit"
  }
 },
 "nbformat": 4,
 "nbformat_minor": 2,
 "cells": [
  {
   "cell_type": "code",
   "execution_count": 8,
   "metadata": {},
   "outputs": [],
   "source": [
    "import cv2\n",
    "import matplotlib.pyplot as plt \n",
    "import numpy as np  \n",
    "\n",
    "################# VARIABLES ####################################\n",
    "# True when mouse DOWN, False when UP\n",
    "drawing=False\n",
    "ix=-1\n",
    "iy=-1\n",
    "\n",
    "#################### FUNCTION ##################################\n",
    "def drawShapes(event,x,y,flags,param):\n",
    "    global ix,iy,drawing\n",
    "    \n",
    "    # For circles, L-filled circle, R-line circle\n",
    "    # if event == cv2.EVENT_LBUTTONDOWN:\n",
    "    #     cv2.circle(img,(x,y),20,(0,100,100),-1)\n",
    "    # if event== cv2.EVENT_RBUTTONDOWN:\n",
    "    #     cv2.circle(img,(x,y),20,(100,10,100),2)\n",
    "\n",
    "    if event == cv2.EVENT_RBUTTONDOWN:\n",
    "        drawing=True\n",
    "        ix,iy=x,y\n",
    "    elif event==cv2.EVENT_MOUSEMOVE:\n",
    "        if drawing == True:\n",
    "            cv2.circle(img,(ix,iy),1,(100,100,100),1)\n",
    "    elif event==cv2.EVENT_RBUTTONUP:\n",
    "        drawing=False\n",
    "        cv2.circle(img,(ix,iy),1,(100,100,100),1)\n",
    "    \n",
    "    # For rectangles with mouse drag\n",
    "\n",
    "    if event == cv2.EVENT_LBUTTONDOWN:\n",
    "        drawing=True\n",
    "        ix,iy=x,y\n",
    "    elif event==cv2.EVENT_MOUSEMOVE:\n",
    "        if drawing == True:\n",
    "            pass\n",
    "            #cv2.rectangle(img,(ix,iy),(x,y),(100,100,100),-1)\n",
    "    elif event==cv2.EVENT_LBUTTONUP:\n",
    "        drawing=False\n",
    "        cv2.rectangle(img,(ix,iy),(x,y),(100,100,100),-1)\n",
    "\n",
    "###################### SHOWING IMAGE #########################\n",
    "img=np.zeros((512,512,3))\n",
    "cv2.namedWindow(winname=\"My Drawing\")\n",
    "cv2.setMouseCallback(\"My Drawing\",drawShapes)\n",
    "\n",
    "while True:\n",
    "    cv2.imshow(\"My Drawing\",img)\n",
    "    if(cv2.waitKey(20) & 0xFF == 27):\n",
    "        break\n",
    "\n",
    "cv2.destroyAllWindows()"
   ]
  },
  {
   "cell_type": "code",
   "execution_count": null,
   "metadata": {},
   "outputs": [],
   "source": []
  }
 ]
}