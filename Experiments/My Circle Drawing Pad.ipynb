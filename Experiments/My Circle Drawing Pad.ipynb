{
 "metadata": {
  "language_info": {
   "codemirror_mode": {
    "name": "ipython",
    "version": 3
   },
   "file_extension": ".py",
   "mimetype": "text/x-python",
   "name": "python",
   "nbconvert_exporter": "python",
   "pygments_lexer": "ipython3",
   "version": "3.8.5-final"
  },
  "orig_nbformat": 2,
  "kernelspec": {
   "name": "python_defaultSpec_1598845065257",
   "display_name": "Python 3.8.5 32-bit"
  }
 },
 "nbformat": 4,
 "nbformat_minor": 2,
 "cells": [
  {
   "cell_type": "code",
   "execution_count": 4,
   "metadata": {},
   "outputs": [],
   "source": [
    "import cv2\n",
    "import matplotlib.pyplot as plt \n",
    "import numpy as np  \n",
    "\n",
    "\n",
    "####################FUNCTION####################\n",
    "def drawCircle(event,x,y,flags,param):\n",
    "    if event == cv2.EVENT_LBUTTONDOWN:\n",
    "        cv2.circle(img,(x,y),20,(0,100,100),-1)\n",
    "    if event== cv2.EVENT_RBUTTONDOWN:\n",
    "        cv2.circle(img,(x,y),20,(0,100,100),2)\n",
    "\n",
    "cv2.namedWindow(winname=\"My_Drawing\")\n",
    "cv2.setMouseCallback(\"My_Drawing\",drawCircle)\n",
    "\n",
    "######################Showing image#########################\n",
    "img=np.zeros((512,512,3))\n",
    "\n",
    "while True:\n",
    "    cv2.imshow(\"My_Drawing\",img)\n",
    "    if(cv2.waitKey(20) & 0xFF == 27):\n",
    "        break\n",
    "\n",
    "cv2.destroyAllWindows()"
   ]
  },
  {
   "cell_type": "code",
   "execution_count": null,
   "metadata": {},
   "outputs": [],
   "source": []
  }
 ]
}